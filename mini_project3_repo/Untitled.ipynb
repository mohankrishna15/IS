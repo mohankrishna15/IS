{
 "cells": [
  {
   "cell_type": "code",
   "execution_count": 1,
   "id": "684b2030",
   "metadata": {},
   "outputs": [],
   "source": [
    "import numpy as np\n",
    "import matplotlib.pyplot as plt\n",
    "from csci3202.classifiers.cnn import *\n",
    "from csci3202.data_utils import get_CIFAR10_data\n",
    "from csci3202.gradient_check import eval_numerical_gradient_array, eval_numerical_gradient\n",
    "from csci3202.layers import *\n",
    "from csci3202.fast_layers import *\n",
    "from csci3202.solver import Solver\n",
    "a=np.array([1,2,3])"
   ]
  },
  {
   "cell_type": "code",
   "execution_count": 4,
   "id": "fab8aebd",
   "metadata": {},
   "outputs": [
    {
     "data": {
      "text/plain": [
       "(2,)"
      ]
     },
     "execution_count": 4,
     "metadata": {},
     "output_type": "execute_result"
    }
   ],
   "source": [
    "np.zeros((2,)).shape"
   ]
  },
  {
   "cell_type": "code",
   "execution_count": 21,
   "id": "663f9fb6",
   "metadata": {},
   "outputs": [
    {
     "data": {
      "text/plain": [
       "array([[1, 2, 3],\n",
       "       [1, 2, 3],\n",
       "       [1, 2, 3]])"
      ]
     },
     "execution_count": 21,
     "metadata": {},
     "output_type": "execute_result"
    }
   ],
   "source": [
    "np.tile(a,(3,1))"
   ]
  },
  {
   "cell_type": "code",
   "execution_count": 22,
   "id": "98b010fa",
   "metadata": {},
   "outputs": [],
   "source": [
    "num_inputs = 2\n",
    "input_shape = (4, 5, 6)\n",
    "output_dim = 3\n",
    "\n",
    "input_size = num_inputs * np.prod(input_shape)\n",
    "weight_size = output_dim * np.prod(input_shape)\n",
    "\n",
    "x = np.linspace(-0.1, 0.5, num=input_size).reshape(num_inputs, *input_shape)\n",
    "w = np.linspace(-0.2, 0.3, num=weight_size).reshape(np.prod(input_shape), output_dim)\n",
    "b = np.linspace(-0.3, 0.1, num=output_dim)"
   ]
  },
  {
   "cell_type": "code",
   "execution_count": 23,
   "id": "bb8c24cf",
   "metadata": {},
   "outputs": [],
   "source": [
    "D=np.prod(x.shape[1:])\n",
    "N=x.shape[0]\n",
    "x1 = np.reshape(x,(N,D))\n",
    "b1 = np.tile(b,(N,1))\n",
    "out = np.matmul(x1,w)+b1"
   ]
  },
  {
   "cell_type": "code",
   "execution_count": 24,
   "id": "9e73b2af",
   "metadata": {},
   "outputs": [],
   "source": [
    "x = np.random.randn(10, 2, 3)\n",
    "w = np.random.randn(6, 5)\n",
    "b = np.random.randn(5)\n",
    "dout = np.random.randn(10, 5)\n",
    "\n",
    "dx_num = eval_numerical_gradient_array(lambda x: affine_forward(x, w, b)[0], x, dout)\n",
    "dw_num = eval_numerical_gradient_array(lambda w: affine_forward(x, w, b)[0], w, dout)\n",
    "db_num = eval_numerical_gradient_array(lambda b: affine_forward(x, w, b)[0], b, dout)"
   ]
  },
  {
   "cell_type": "code",
   "execution_count": 25,
   "id": "135f32dc",
   "metadata": {},
   "outputs": [
    {
     "data": {
      "text/plain": [
       "(6, 5)"
      ]
     },
     "execution_count": 25,
     "metadata": {},
     "output_type": "execute_result"
    }
   ],
   "source": [
    "np.shape(w)"
   ]
  },
  {
   "cell_type": "code",
   "execution_count": 26,
   "id": "ef46845a",
   "metadata": {},
   "outputs": [
    {
     "data": {
      "text/plain": [
       "array([[[-2.43134807,  3.08145094,  1.72177306],\n",
       "        [-0.32872851,  0.97151829,  2.32276575]],\n",
       "\n",
       "       [[ 4.98569366, -9.63427643, -6.44595092],\n",
       "        [-2.0256359 ,  0.57616687, -1.33709038]],\n",
       "\n",
       "       [[ 4.21506201, -0.62831986, -0.54168643],\n",
       "        [ 2.27067728, -2.10178714, -1.16738617]],\n",
       "\n",
       "       [[ 3.06193934, -0.45624751,  0.30382439],\n",
       "        [-1.02263593,  2.76065424, -2.5372805 ]],\n",
       "\n",
       "       [[-1.14285144,  1.22317136, -0.70269389],\n",
       "        [ 0.65955695, -2.2678478 ,  2.87248462]],\n",
       "\n",
       "       [[ 2.92411417,  1.12485136, -0.76150183],\n",
       "        [-0.79900872,  2.00032583,  3.56142613]],\n",
       "\n",
       "       [[ 1.99257152, -2.41593512, -1.47061004],\n",
       "        [ 0.58211068, -1.24790842, -1.48295522]],\n",
       "\n",
       "       [[ 1.17600152, -0.76128007,  3.30175276],\n",
       "        [ 1.79307632,  0.01719775, -9.7697567 ]],\n",
       "\n",
       "       [[ 3.30313725, -0.11969696, -0.55436289],\n",
       "        [-0.01318765, -0.14986629, -2.68311118]],\n",
       "\n",
       "       [[ 2.06854508,  1.76237207, -0.66551127],\n",
       "        [-0.7134179 ,  0.98617627,  2.8819401 ]]])"
      ]
     },
     "execution_count": 26,
     "metadata": {},
     "output_type": "execute_result"
    }
   ],
   "source": [
    "N = x.shape[0]\n",
    "D=np.prod(x.shape[1:])\n",
    "x1=np.reshape(x,(N,D))\n",
    "tmpd=np.matmul(dout,np.transpose(w))\n",
    "np.reshape(tmpd, np.shape(x))"
   ]
  },
  {
   "cell_type": "code",
   "execution_count": 27,
   "id": "39a1077e",
   "metadata": {},
   "outputs": [
    {
     "data": {
      "text/plain": [
       "(5,)"
      ]
     },
     "execution_count": 27,
     "metadata": {},
     "output_type": "execute_result"
    }
   ],
   "source": [
    "np.sum(dout,axis=0).shape"
   ]
  },
  {
   "cell_type": "code",
   "execution_count": 37,
   "id": "5b586d9c",
   "metadata": {},
   "outputs": [],
   "source": [
    "x = np.linspace(-0.5, 0.5, num=12).reshape(3, 4)"
   ]
  },
  {
   "cell_type": "code",
   "execution_count": 38,
   "id": "d2944f1a",
   "metadata": {},
   "outputs": [],
   "source": [
    "p=x.copy()"
   ]
  },
  {
   "cell_type": "code",
   "execution_count": 39,
   "id": "d19ce99e",
   "metadata": {},
   "outputs": [],
   "source": [
    "p[p<0]=0"
   ]
  },
  {
   "cell_type": "code",
   "execution_count": 40,
   "id": "655b9180",
   "metadata": {},
   "outputs": [
    {
     "data": {
      "text/plain": [
       "array([[-0.5       , -0.40909091, -0.31818182, -0.22727273],\n",
       "       [-0.13636364, -0.04545455,  0.04545455,  0.13636364],\n",
       "       [ 0.22727273,  0.31818182,  0.40909091,  0.5       ]])"
      ]
     },
     "execution_count": 40,
     "metadata": {},
     "output_type": "execute_result"
    }
   ],
   "source": [
    "x"
   ]
  },
  {
   "cell_type": "code",
   "execution_count": 41,
   "id": "14baca72",
   "metadata": {},
   "outputs": [
    {
     "data": {
      "text/plain": [
       "array([[0.        , 0.        , 0.        , 0.        ],\n",
       "       [0.        , 0.        , 0.04545455, 0.13636364],\n",
       "       [0.22727273, 0.31818182, 0.40909091, 0.5       ]])"
      ]
     },
     "execution_count": 41,
     "metadata": {},
     "output_type": "execute_result"
    }
   ],
   "source": [
    "p"
   ]
  },
  {
   "cell_type": "code",
   "execution_count": 50,
   "id": "a630597a",
   "metadata": {},
   "outputs": [],
   "source": [
    "x=np.pad(x,((0,1),(0,0)))"
   ]
  },
  {
   "cell_type": "code",
   "execution_count": 73,
   "id": "9cfa7773",
   "metadata": {},
   "outputs": [],
   "source": [
    "x_shape = (2, 3, 4, 4)\n",
    "w_shape = (3, 3, 4, 4)\n",
    "x = np.linspace(-0.1, 0.5, num=np.prod(x_shape)).reshape(x_shape)\n",
    "w = np.linspace(-0.2, 0.3, num=np.prod(w_shape)).reshape(w_shape)\n",
    "b = np.linspace(-0.1, 0.2, num=3)\n",
    "\n",
    "conv_param = {'stride': 2, 'pad': 1}"
   ]
  },
  {
   "cell_type": "code",
   "execution_count": 74,
   "id": "79cc13eb",
   "metadata": {},
   "outputs": [],
   "source": [
    "def rel_error(x, y):\n",
    "  \"\"\" returns relative error \"\"\"\n",
    "  return np.max(np.abs(x - y) / (np.maximum(1e-8, np.abs(x) + np.abs(y))))"
   ]
  },
  {
   "cell_type": "code",
   "execution_count": 75,
   "id": "f24af95a",
   "metadata": {},
   "outputs": [],
   "source": [
    "N,C,H,W = x.shape\n",
    "F,C,HH,WW = w.shape\n",
    "  \n",
    "pad = conv_param['pad']\n",
    "stride = conv_param['stride']\n",
    "\n",
    "H_out = 1+(H+2*pad-HH)//stride\n",
    "W_out = 1+(W+2*pad-WW)//stride\n",
    "\n",
    "out = np.zeros((N,F,H_out,W_out))\n",
    "x_padded = np.pad(x,((0,0),(0,0),(pad,pad),(pad,pad)))\n",
    "for n in range(N):\n",
    "    for wi in range(W_out):\n",
    "        for h in range(H_out):\n",
    "            x_tmp = x_padded[n,:,h*stride:h*stride+HH,wi*stride:wi*stride+WW]\n",
    "            for f in range(F):\n",
    "                out[n,f,h,wi]=np.sum(x_tmp*w[f,:,:,:])+b[f]"
   ]
  },
  {
   "cell_type": "code",
   "execution_count": 76,
   "id": "eb25e223",
   "metadata": {},
   "outputs": [
    {
     "data": {
      "text/plain": [
       "array([[[[-0.08759809, -0.10987781],\n",
       "         [-0.18387192, -0.2109216 ]],\n",
       "\n",
       "        [[ 0.21027089,  0.21661097],\n",
       "         [ 0.22847626,  0.23004637]],\n",
       "\n",
       "        [[ 0.50813986,  0.54309974],\n",
       "         [ 0.64082444,  0.67101435]]],\n",
       "\n",
       "\n",
       "       [[[-0.98053589, -1.03143541],\n",
       "         [-1.19128892, -1.24695841]],\n",
       "\n",
       "        [[ 0.69108355,  0.66880383],\n",
       "         [ 0.59480972,  0.56776003]],\n",
       "\n",
       "        [[ 2.36270298,  2.36904306],\n",
       "         [ 2.38090835,  2.38247847]]]])"
      ]
     },
     "execution_count": 76,
     "metadata": {},
     "output_type": "execute_result"
    }
   ],
   "source": [
    "out"
   ]
  },
  {
   "cell_type": "code",
   "execution_count": 77,
   "id": "3f6db396",
   "metadata": {},
   "outputs": [
    {
     "name": "stdout",
     "output_type": "stream",
     "text": [
      "Testing conv_forward_naive\n",
      "difference:  2.2121476417505994e-08\n"
     ]
    }
   ],
   "source": [
    "correct_out = np.array([[[[[-0.08759809, -0.10987781],\n",
    "                           [-0.18387192, -0.2109216 ]],\n",
    "                          [[ 0.21027089,  0.21661097],\n",
    "                           [ 0.22847626,  0.23004637]],\n",
    "                          [[ 0.50813986,  0.54309974],\n",
    "                           [ 0.64082444,  0.67101435]]],\n",
    "                         [[[-0.98053589, -1.03143541],\n",
    "                           [-1.19128892, -1.24695841]],\n",
    "                          [[ 0.69108355,  0.66880383],\n",
    "                           [ 0.59480972,  0.56776003]],\n",
    "                          [[ 2.36270298,  2.36904306],\n",
    "                           [ 2.38090835,  2.38247847]]]]])\n",
    "\n",
    "# Compare your output to ours; difference should be around 1e-8\n",
    "print('Testing conv_forward_naive')\n",
    "print('difference: ', rel_error(out, correct_out))"
   ]
  },
  {
   "cell_type": "code",
   "execution_count": null,
   "id": "679df634",
   "metadata": {},
   "outputs": [],
   "source": []
  }
 ],
 "metadata": {
  "kernelspec": {
   "display_name": "Python 3",
   "language": "python",
   "name": "python3"
  },
  "language_info": {
   "codemirror_mode": {
    "name": "ipython",
    "version": 3
   },
   "file_extension": ".py",
   "mimetype": "text/x-python",
   "name": "python",
   "nbconvert_exporter": "python",
   "pygments_lexer": "ipython3",
   "version": "3.6.9"
  }
 },
 "nbformat": 4,
 "nbformat_minor": 5
}
